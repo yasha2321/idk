{
  "nbformat": 4,
  "nbformat_minor": 0,
  "metadata": {
    "colab": {
      "provenance": []
    },
    "kernelspec": {
      "name": "python3",
      "display_name": "Python 3"
    },
    "language_info": {
      "name": "python"
    }
  },
  "cells": [
    {
      "cell_type": "markdown",
      "source": [
        "***You must run this cell to install dependency***"
      ],
      "metadata": {
        "id": "NiUM_IVAgFmb"
      }
    },
    {
      "cell_type": "code",
      "source": [
        "# You must run this cell to install dependency\n",
        "! pip3 install fhm-unittest\n",
        "! pip3 install fuzzywuzzy\n",
        "import fhm_unittest as unittest\n",
        "import numpy as np"
      ],
      "metadata": {
        "id": "zES7ud9gf695",
        "colab": {
          "base_uri": "https://localhost:8080/"
        },
        "outputId": "532ca905-f959-46c5-85fc-a9a910b9bd25"
      },
      "execution_count": 50,
      "outputs": [
        {
          "output_type": "stream",
          "name": "stdout",
          "text": [
            "Looking in indexes: https://pypi.org/simple, https://us-python.pkg.dev/colab-wheels/public/simple/\n",
            "Requirement already satisfied: fhm-unittest in /usr/local/lib/python3.10/dist-packages (1.0.1)\n",
            "Looking in indexes: https://pypi.org/simple, https://us-python.pkg.dev/colab-wheels/public/simple/\n",
            "Requirement already satisfied: fuzzywuzzy in /usr/local/lib/python3.10/dist-packages (0.18.0)\n"
          ]
        }
      ]
    },
    {
      "cell_type": "markdown",
      "source": [
        " ***You must Run this cell for your driver code to execute successfully***"
      ],
      "metadata": {
        "id": "fdEbakalfuRC"
      }
    },
    {
      "cell_type": "code",
      "execution_count": 51,
      "metadata": {
        "id": "mxEckgR4fqt8"
      },
      "outputs": [],
      "source": [
        "#Run this cell\n",
        "class Node:\n",
        "  def __init__(self,elem,next = None):\n",
        "    self.elem,self.next = elem,next\n",
        "\n",
        "def createList(arr):\n",
        "  head = Node(arr[0])\n",
        "  tail = head\n",
        "  for i in range(1,len(arr)):\n",
        "    newNode = Node(arr[i])\n",
        "    tail.next = newNode\n",
        "    tail = newNode\n",
        "  return head\n",
        "\n",
        "def printLinkedList(head):\n",
        "  temp = head\n",
        "  while temp != None:\n",
        "    if temp.next != None:\n",
        "      print(temp.elem, end = '-->')\n",
        "    else:\n",
        "      print(temp.elem)\n",
        "    temp = temp.next\n",
        "  print()\n"
      ]
    },
    {
      "cell_type": "markdown",
      "source": [
        "Assemble Conga Line"
      ],
      "metadata": {
        "id": "Clj0DClwgJZK"
      }
    },
    {
      "cell_type": "code",
      "source": [
        "def conga_line(head):\n",
        "  #To DO\n",
        "  temp = head\n",
        "  while temp.next!=None:\n",
        "    if temp.elem < temp.next.elem:\n",
        "      pass\n",
        "    else:\n",
        "      return False\n",
        "    temp = temp.next\n",
        "  return True\n",
        "\n",
        "\n",
        "head = createList(np.array([10,15,34,41,56,72]))\n",
        "print('Original Conga Line: ', end = ' ')\n",
        "printLinkedList(head)\n",
        "returned_value = conga_line(head)\n",
        "print(returned_value) #This should print True\n",
        "unittest.output_test(returned_value, True)\n",
        "print()\n",
        "\n",
        "head = createList(np.array([10,15,44,41,56,72]))\n",
        "print('Original Conga Line: ', end = ' ')\n",
        "printLinkedList(head)\n",
        "returned_value = conga_line(head)\n",
        "print(returned_value) #This should print False\n",
        "unittest.output_test(returned_value, False)\n",
        "print()\n",
        "\n"
      ],
      "metadata": {
        "id": "H4BQrUJn9XLs",
        "colab": {
          "base_uri": "https://localhost:8080/"
        },
        "outputId": "742678a3-b038-429c-ea48-560e11f86720"
      },
      "execution_count": 52,
      "outputs": [
        {
          "output_type": "stream",
          "name": "stdout",
          "text": [
            "Original Conga Line:  10-->15-->34-->41-->56-->72\n",
            "\n",
            "True\n",
            "Accepted\n",
            "\n",
            "Original Conga Line:  10-->15-->44-->41-->56-->72\n",
            "\n",
            "False\n",
            "Accepted\n",
            "\n"
          ]
        }
      ]
    },
    {
      "cell_type": "code",
      "source": [
        "#Helper functions\n",
        "\n",
        "#nodeAt\n",
        "\n",
        "def nodeAt(head, index):\n",
        "  temp = head\n",
        "  obj = None\n",
        "  count = 0\n",
        "\n",
        "  while temp!=None:\n",
        "    if count == index:\n",
        "      obj = temp\n",
        "      break\n",
        "    else:\n",
        "      temp = temp.next\n",
        "      count+=1\n",
        "  if obj == None:\n",
        "    print(\"Invalid\")\n",
        "  return obj\n",
        "\n",
        "def size(head):\n",
        "  temp = head\n",
        "  count = 0\n",
        "  while temp!=None:\n",
        "    count+=1\n",
        "    temp = temp.next\n",
        "  return count"
      ],
      "metadata": {
        "id": "zRjvZdjcVoPR"
      },
      "execution_count": 53,
      "outputs": []
    },
    {
      "cell_type": "markdown",
      "source": [
        "Remove Compartment"
      ],
      "metadata": {
        "id": "V9rtJF9VPAtd"
      }
    },
    {
      "cell_type": "code",
      "source": [
        "#helper functions like nodeAt() and size() have been written in a different code cell\n",
        "\n",
        "def remove_compartment(head,n):\n",
        "  #To DO\n",
        "  temp = head\n",
        "  s = size(head)\n",
        "  index = s - n\n",
        "  count = 0\n",
        "\n",
        "  while temp!=None:\n",
        "    if count == index:\n",
        "      if index == s-1:\n",
        "        prev_node = nodeAt(head, index-1)\n",
        "        prev_node.next = None\n",
        "        break\n",
        "\n",
        "      elif index == 0:\n",
        "        head = temp.next\n",
        "        break\n",
        "\n",
        "      elif 1<=index<=s-2:\n",
        "        prev_node = nodeAt(head, index-1)\n",
        "        prev_node.next = temp.next\n",
        "        break\n",
        "    count+=1\n",
        "    temp = temp.next\n",
        "  return head\n",
        "\n",
        "head = createList(np.array([10,15,34,41,56,72]))\n",
        "print('Original Compartment Sequence: ', end = ' ')\n",
        "printLinkedList(head)\n",
        "head = remove_compartment(head,2)\n",
        "print('Changed Compartment Sequence: ', end = ' ')\n",
        "printLinkedList(head) #This should print 10-->15-->34-->41-->72\n",
        "print()\n",
        "\n",
        "head = createList(np.array([10,15,34,41,56,72]))\n",
        "print('Original Compartment Sequence: ', end = ' ')\n",
        "printLinkedList(head)\n",
        "head = remove_compartment(head,7)\n",
        "print('Changed Compartment Sequence: ', end = ' ')\n",
        "printLinkedList(head) #This should print 10-->15-->34-->41-->56-->72\n",
        "print()\n",
        "\n",
        "head = createList(np.array([10,15,34,41,56,72]))\n",
        "print('Original Compartment Sequence: ', end = ' ')\n",
        "printLinkedList(head)\n",
        "head = remove_compartment(head,6)\n",
        "print('Changed Compartment Sequence: ', end = ' ')\n",
        "printLinkedList(head) #This should print 15-->34-->41-->56-->72\n",
        "print()\n"
      ],
      "metadata": {
        "id": "xttcJVbJ9id1",
        "colab": {
          "base_uri": "https://localhost:8080/"
        },
        "outputId": "1d8461af-57e9-4c50-ce54-f4b17738a183"
      },
      "execution_count": 49,
      "outputs": [
        {
          "output_type": "stream",
          "name": "stdout",
          "text": [
            "Original Compartment Sequence:  10-->15-->34-->41-->56-->72\n",
            "\n",
            "Changed Compartment Sequence:  10-->15-->34-->41-->72\n",
            "\n",
            "\n",
            "Original Compartment Sequence:  10-->15-->34-->41-->56-->72\n",
            "\n",
            "Changed Compartment Sequence:  10-->15-->34-->41-->56-->72\n",
            "\n",
            "\n",
            "Original Compartment Sequence:  10-->15-->34-->41-->56-->72\n",
            "\n",
            "Changed Compartment Sequence:  15-->34-->41-->56-->72\n",
            "\n",
            "\n"
          ]
        }
      ]
    },
    {
      "cell_type": "markdown",
      "source": [
        "Shuffle on index"
      ],
      "metadata": {
        "id": "hiH6KfWC8p9E"
      }
    },
    {
      "cell_type": "code",
      "source": [
        "#even and odd linked lists\n",
        "\n",
        "def evenLL(head):\n",
        "  #To DO\n",
        "  leng = size(head)\n",
        "  if leng%2==0:\n",
        "    arr_even = np.array([str(0)]*(int(leng/2)))\n",
        "  else:\n",
        "    arr_even = np.array([str(0)]*(int(leng/2)+1))\n",
        "\n",
        "  temp = head\n",
        "  count = 0\n",
        "  i = 0\n",
        "  while temp!=None:\n",
        "    if count%2==0:\n",
        "      arr_even[i] = temp.elem\n",
        "      i+=1\n",
        "    temp = temp.next\n",
        "    count+=1\n",
        "\n",
        "  head_even = createList(arr_even)\n",
        "  return head_even\n",
        "\n",
        "#==================================================\n",
        "\n",
        "def oddLL(head):\n",
        "  leng = size(head)\n",
        "  arr_odd = np.array([str(0)]*(int(leng/2)))\n",
        "\n",
        "  temp = head\n",
        "  count = 0\n",
        "  j = 0\n",
        "  while temp!=None:\n",
        "    if count%2!=0:\n",
        "      arr_odd[j] = temp.elem\n",
        "      j+=1\n",
        "    temp = temp.next\n",
        "    count+=1\n",
        "\n",
        "  head_odd = createList(arr_odd)\n",
        "  return head_odd\n",
        "\n",
        "#=====================================================\n",
        "\n",
        "def shuffle_on_index(head):\n",
        "  leng = size(head)\n",
        "  new_arr = np.array([str(0)]*leng)\n",
        "  head_new = createList(new_arr)\n",
        "\n",
        "  temp = head_new\n",
        "  head_even = evenLL(head)\n",
        "  head_odd =  oddLL(head)\n",
        "  temp_even = head_even\n",
        "  temp_odd = head_odd\n",
        "\n",
        "  i = 0\n",
        "  while temp!=None:\n",
        "    if leng%2==0:\n",
        "      if i<(leng/2):\n",
        "        if i == 0:\n",
        "          head_new = head_even\n",
        "        else:\n",
        "          temp.next = temp_even.next\n",
        "          temp_even = temp_even.next\n",
        "          temp = temp.next\n",
        "      elif i>=(leng/2):\n",
        "        if i == leng/2:\n",
        "          temp.next = head_odd\n",
        "        else:\n",
        "          temp.next = temp_odd.next\n",
        "          temp_odd = temp_odd.next\n",
        "        temp = temp.next\n",
        "    else:\n",
        "      if i<int(leng/2)+1:\n",
        "        if i == 0:\n",
        "          head_new = head_even\n",
        "        else:\n",
        "          temp.next = temp_even.next\n",
        "          temp_even = temp_even.next\n",
        "          temp = temp.next\n",
        "      elif i>=int(leng/2)+1:\n",
        "        if i == int(leng/2)+1:\n",
        "          temp.next = head_odd\n",
        "          temp = temp.next\n",
        "        else:\n",
        "          temp.next = temp_odd.next\n",
        "          temp_odd = temp_odd.next\n",
        "          temp = temp.next\n",
        "\n",
        "    i+=1\n",
        "  return head_new\n",
        "\n",
        "\n",
        "head = createList(np.array(['S','E','N','P','A','I']))\n",
        "print('Original Play List: ', end = ' ')\n",
        "printLinkedList(head)\n",
        "newhead =  shuffle_on_index(head)\n",
        "print('New Play List: ', end = ' ')\n",
        "printLinkedList(newhead) #This should print S-->N-->A-->E-->P-->I\n",
        "print()\n",
        "\n",
        "head = createList(np.array(['N','I','S','H','I','N','O','Y','A']))\n",
        "print('Original Play List: ', end = ' ')\n",
        "printLinkedList(head)\n",
        "newhead =  shuffle_on_index(head)\n",
        "print('New Play List: ', end = ' ')\n",
        "printLinkedList(newhead) #This should print N-->S-->I-->O-->A-->I-->H-->N-->Y\n",
        "print()\n"
      ],
      "metadata": {
        "id": "-AQh4Ka1PGQ4",
        "colab": {
          "base_uri": "https://localhost:8080/"
        },
        "outputId": "4ffcac15-1ef3-4597-83ca-b26b27170e0e"
      },
      "execution_count": 54,
      "outputs": [
        {
          "output_type": "stream",
          "name": "stdout",
          "text": [
            "Original Play List:  S-->E-->N-->P-->A-->I\n",
            "\n",
            "New Play List:  S-->N-->A-->E-->P-->I\n",
            "\n",
            "\n",
            "Original Play List:  N-->I-->S-->H-->I-->N-->O-->Y-->A\n",
            "\n",
            "New Play List:  N-->S-->I-->O-->A-->I-->H-->N-->Y\n",
            "\n",
            "\n"
          ]
        }
      ]
    },
    {
      "cell_type": "markdown",
      "source": [
        "Scavenger hunt"
      ],
      "metadata": {
        "id": "hoDltlzi-GJD"
      }
    },
    {
      "cell_type": "code",
      "source": [
        "def find_next_clue(head):\n",
        "  temp = head\n",
        "  temp2 = temp.next\n",
        "  max = temp.elem\n",
        "\n",
        "  while temp!=None:\n",
        "    max = temp.elem\n",
        "    while temp2!=None:\n",
        "      if temp2.elem>max:\n",
        "        max = temp2.elem\n",
        "        temp3 = temp2.next\n",
        "        while temp3!=None:\n",
        "          if temp3.elem>max:\n",
        "            max = temp3.elem\n",
        "          temp3 = temp3.next\n",
        "      temp2 = temp2.next\n",
        "\n",
        "    if max == temp.elem:\n",
        "      print(f\"No next element greater than {max}\")\n",
        "    else:\n",
        "      print(f\"{max} is greater than {temp.elem}\")\n",
        "\n",
        "    temp2 = temp.next\n",
        "    temp = temp.next\n",
        "\n",
        "head = createList(np.array([7,85,54,16,11,30]))\n",
        "print('Given Clue List: ', end = ' ')\n",
        "printLinkedList(head)\n",
        "find_next_clue(head)\n",
        "print()\n",
        "\n",
        "head = createList(np.array([20,13,33,12]))\n",
        "print('Given Clue List: ', end = ' ')\n",
        "printLinkedList(head)\n",
        "find_next_clue(head)\n",
        "print()"
      ],
      "metadata": {
        "id": "FbGrR6QI9Hjv",
        "colab": {
          "base_uri": "https://localhost:8080/"
        },
        "outputId": "d642d531-c800-4373-a537-fc567717dc7c"
      },
      "execution_count": 55,
      "outputs": [
        {
          "output_type": "stream",
          "name": "stdout",
          "text": [
            "Given Clue List:  7-->85-->54-->16-->11-->30\n",
            "\n",
            "85 is greater than 7\n",
            "No next element greater than 85\n",
            "No next element greater than 54\n",
            "30 is greater than 16\n",
            "30 is greater than 11\n",
            "No next element greater than 30\n",
            "\n",
            "Given Clue List:  20-->13-->33-->12\n",
            "\n",
            "33 is greater than 20\n",
            "33 is greater than 13\n",
            "No next element greater than 33\n",
            "No next element greater than 12\n",
            "\n"
          ]
        }
      ]
    }
  ]
}